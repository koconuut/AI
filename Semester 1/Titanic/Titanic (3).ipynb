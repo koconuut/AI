{
 "cells": [
  {
   "cell_type": "code",
   "execution_count": 29,
   "id": "9d9d8881-4707-43d1-bff1-1161284db734",
   "metadata": {},
   "outputs": [],
   "source": [
    "# Question: What percent of first-class passengers were women?\n",
    "# I will be using an observational study to figure out the percent of first-class female passengers by using code to go through my titanic data set and calculate the percent."
   ]
  },
  {
   "cell_type": "code",
   "execution_count": 30,
   "id": "d8dcf831-9114-4b3c-8150-65337d3f7676",
   "metadata": {},
   "outputs": [],
   "source": [
    "# import + variables\n",
    "import pandas as pd\n",
    "df = pd.read_csv('titanic.csv')\n",
    "from IPython.display import display"
   ]
  },
  {
   "cell_type": "code",
   "execution_count": null,
   "id": "8282e063-db69-40b0-98ee-dfa133ba64f3",
   "metadata": {},
   "outputs": [],
   "source": [
    "# display(df)                                       # display data frame\n",
    "# print(df.columns)                                 # data in columns\n",
    "# print(df.info())                                  # data types & missing values\n",
    "# print(df.describe())                              # summary stats for numeric columns"
   ]
  },
  {
   "cell_type": "code",
   "execution_count": null,
   "id": "08d7065f-503d-48ff-bf0d-0fe1294c800e",
   "metadata": {},
   "outputs": [],
   "source": [
    "# print(df.shape)                                    # number of samples\n",
    "# print(df.iloc[6])                                  # 7th sample\n",
    "# queenstown_passengers = df[df[\"Embarked\"] == \"Q\"]\n",
    "# display(queenstown_passengers)                     # queenstown embark"
   ]
  },
  {
   "cell_type": "code",
   "execution_count": 31,
   "id": "b322cf55-8922-4ca9-9300-3e1da2bc69ef",
   "metadata": {
    "editable": true,
    "slideshow": {
     "slide_type": ""
    },
    "tags": []
   },
   "outputs": [
    {
     "name": "stdout",
     "output_type": "stream",
     "text": [
      "10.549943883277217\n"
     ]
    }
   ],
   "source": [
    "# percent of female first-class passengers\n",
    "percent_women_first = (len(df[(df[\"Sex\"] == \"female\") & (df[\"Pclass\"] == 1)]) / len(df)) * 100\n",
    "print(percent_women_first)"
   ]
  }
 ],
 "metadata": {
  "kernelspec": {
   "display_name": "anaconda-ai-2024.04-py310",
   "language": "python",
   "name": "conda-env-anaconda-ai-2024.04-py310-py"
  },
  "language_info": {
   "codemirror_mode": {
    "name": "ipython",
    "version": 3
   },
   "file_extension": ".py",
   "mimetype": "text/x-python",
   "name": "python",
   "nbconvert_exporter": "python",
   "pygments_lexer": "ipython3",
   "version": "3.10.13"
  }
 },
 "nbformat": 4,
 "nbformat_minor": 5
}
